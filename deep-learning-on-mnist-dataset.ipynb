{
 "cells": [
  {
   "cell_type": "markdown",
   "id": "e6bc8d57",
   "metadata": {
    "papermill": {
     "duration": 0.023786,
     "end_time": "2021-11-22T06:52:10.922711",
     "exception": false,
     "start_time": "2021-11-22T06:52:10.898925",
     "status": "completed"
    },
    "tags": []
   },
   "source": [
    "# Importing Library"
   ]
  },
  {
   "cell_type": "code",
   "execution_count": 1,
   "id": "aef8f084",
   "metadata": {
    "execution": {
     "iopub.execute_input": "2021-11-22T06:52:11.046028Z",
     "iopub.status.busy": "2021-11-22T06:52:11.045161Z",
     "iopub.status.idle": "2021-11-22T06:52:16.221125Z",
     "shell.execute_reply": "2021-11-22T06:52:16.221580Z",
     "shell.execute_reply.started": "2021-11-22T04:31:36.767058Z"
    },
    "id": "vA5_mIo78Afu",
    "outputId": "2b912d3b-2c43-48d6-a973-7d67a7c564bb",
    "papermill": {
     "duration": 5.274885,
     "end_time": "2021-11-22T06:52:16.221870",
     "exception": false,
     "start_time": "2021-11-22T06:52:10.946985",
     "status": "completed"
    },
    "tags": []
   },
   "outputs": [
    {
     "name": "stderr",
     "output_type": "stream",
     "text": [
      "2021-11-22 06:52:12.426902: I tensorflow/stream_executor/platform/default/dso_loader.cc:49] Successfully opened dynamic library libcudart.so.11.0\n"
     ]
    }
   ],
   "source": [
    "import numpy as np\n",
    "import pandas as pd\n",
    "from sklearn import metrics\n",
    "import seaborn as sns\n",
    "import matplotlib.pyplot as plt\n",
    "%matplotlib inline\n",
    "\n",
    "# Using Tensorflow Keras instead of the original Keras\n",
    "\n",
    "from tensorflow import keras\n",
    "from tensorflow.keras.datasets import mnist\n",
    "from tensorflow.keras import Sequential\n",
    "from tensorflow.keras.layers import Dense"
   ]
  },
  {
   "cell_type": "markdown",
   "id": "863e218b",
   "metadata": {
    "papermill": {
     "duration": 0.022708,
     "end_time": "2021-11-22T06:52:16.269151",
     "exception": false,
     "start_time": "2021-11-22T06:52:16.246443",
     "status": "completed"
    },
    "tags": []
   },
   "source": [
    "# Loading Dataset from Tensorflow"
   ]
  },
  {
   "cell_type": "code",
   "execution_count": 2,
   "id": "89fc2db8",
   "metadata": {
    "execution": {
     "iopub.execute_input": "2021-11-22T06:52:16.318085Z",
     "iopub.status.busy": "2021-11-22T06:52:16.317323Z",
     "iopub.status.idle": "2021-11-22T06:52:16.693608Z",
     "shell.execute_reply": "2021-11-22T06:52:16.694037Z",
     "shell.execute_reply.started": "2021-11-22T04:31:41.907675Z"
    },
    "id": "tEKugk2a8Afy",
    "outputId": "9f64fae2-4026-4f4c-c109-8da64609301d",
    "papermill": {
     "duration": 0.402831,
     "end_time": "2021-11-22T06:52:16.694204",
     "exception": false,
     "start_time": "2021-11-22T06:52:16.291373",
     "status": "completed"
    },
    "tags": []
   },
   "outputs": [
    {
     "name": "stdout",
     "output_type": "stream",
     "text": [
      "Downloading data from https://storage.googleapis.com/tensorflow/tf-keras-datasets/mnist.npz\n",
      "11493376/11490434 [==============================] - 0s 0us/step\n"
     ]
    }
   ],
   "source": [
    "(xtrain,ytrain),(xtest,ytest)=mnist.load_data()"
   ]
  },
  {
   "cell_type": "code",
   "execution_count": 3,
   "id": "accfcd79",
   "metadata": {
    "execution": {
     "iopub.execute_input": "2021-11-22T06:52:16.747708Z",
     "iopub.status.busy": "2021-11-22T06:52:16.747005Z",
     "iopub.status.idle": "2021-11-22T06:52:16.750181Z",
     "shell.execute_reply": "2021-11-22T06:52:16.750604Z",
     "shell.execute_reply.started": "2021-11-22T04:31:42.315114Z"
    },
    "id": "kwGbI1p18Af0",
    "outputId": "cb47c15e-adcc-441c-f5aa-7252b6cd0072",
    "papermill": {
     "duration": 0.033047,
     "end_time": "2021-11-22T06:52:16.750747",
     "exception": false,
     "start_time": "2021-11-22T06:52:16.717700",
     "status": "completed"
    },
    "tags": []
   },
   "outputs": [
    {
     "data": {
      "text/plain": [
       "(60000, 28, 28)"
      ]
     },
     "execution_count": 3,
     "metadata": {},
     "output_type": "execute_result"
    }
   ],
   "source": [
    "xtrain.shape"
   ]
  },
  {
   "cell_type": "code",
   "execution_count": 4,
   "id": "96d16299",
   "metadata": {
    "execution": {
     "iopub.execute_input": "2021-11-22T06:52:16.802123Z",
     "iopub.status.busy": "2021-11-22T06:52:16.801503Z",
     "iopub.status.idle": "2021-11-22T06:52:16.804046Z",
     "shell.execute_reply": "2021-11-22T06:52:16.804476Z",
     "shell.execute_reply.started": "2021-11-22T04:31:42.327405Z"
    },
    "papermill": {
     "duration": 0.030469,
     "end_time": "2021-11-22T06:52:16.804604",
     "exception": false,
     "start_time": "2021-11-22T06:52:16.774135",
     "status": "completed"
    },
    "tags": []
   },
   "outputs": [
    {
     "data": {
      "text/plain": [
       "(10000, 28, 28)"
      ]
     },
     "execution_count": 4,
     "metadata": {},
     "output_type": "execute_result"
    }
   ],
   "source": [
    "xtest.shape "
   ]
  },
  {
   "cell_type": "code",
   "execution_count": 5,
   "id": "1a431762",
   "metadata": {
    "execution": {
     "iopub.execute_input": "2021-11-22T06:52:16.855654Z",
     "iopub.status.busy": "2021-11-22T06:52:16.854841Z",
     "iopub.status.idle": "2021-11-22T06:52:16.858288Z",
     "shell.execute_reply": "2021-11-22T06:52:16.858774Z",
     "shell.execute_reply.started": "2021-11-22T04:31:42.370714Z"
    },
    "papermill": {
     "duration": 0.03086,
     "end_time": "2021-11-22T06:52:16.858919",
     "exception": false,
     "start_time": "2021-11-22T06:52:16.828059",
     "status": "completed"
    },
    "tags": []
   },
   "outputs": [
    {
     "data": {
      "text/plain": [
       "(60000,)"
      ]
     },
     "execution_count": 5,
     "metadata": {},
     "output_type": "execute_result"
    }
   ],
   "source": [
    "ytrain.shape"
   ]
  },
  {
   "cell_type": "code",
   "execution_count": 6,
   "id": "df2dfb27",
   "metadata": {
    "execution": {
     "iopub.execute_input": "2021-11-22T06:52:16.910179Z",
     "iopub.status.busy": "2021-11-22T06:52:16.909639Z",
     "iopub.status.idle": "2021-11-22T06:52:16.914104Z",
     "shell.execute_reply": "2021-11-22T06:52:16.914533Z",
     "shell.execute_reply.started": "2021-11-22T04:31:42.380867Z"
    },
    "papermill": {
     "duration": 0.032183,
     "end_time": "2021-11-22T06:52:16.914665",
     "exception": false,
     "start_time": "2021-11-22T06:52:16.882482",
     "status": "completed"
    },
    "tags": []
   },
   "outputs": [
    {
     "data": {
      "text/plain": [
       "(10000,)"
      ]
     },
     "execution_count": 6,
     "metadata": {},
     "output_type": "execute_result"
    }
   ],
   "source": [
    "ytest.shape "
   ]
  },
  {
   "cell_type": "markdown",
   "id": "fd241490",
   "metadata": {
    "papermill": {
     "duration": 0.024431,
     "end_time": "2021-11-22T06:52:16.963859",
     "exception": false,
     "start_time": "2021-11-22T06:52:16.939428",
     "status": "completed"
    },
    "tags": []
   },
   "source": [
    "# Visualizing "
   ]
  },
  {
   "cell_type": "markdown",
   "id": "46263a11",
   "metadata": {
    "papermill": {
     "duration": 0.024414,
     "end_time": "2021-11-22T06:52:17.013153",
     "exception": false,
     "start_time": "2021-11-22T06:52:16.988739",
     "status": "completed"
    },
    "tags": []
   },
   "source": [
    "Image:"
   ]
  },
  {
   "cell_type": "code",
   "execution_count": 7,
   "id": "6feffe29",
   "metadata": {
    "execution": {
     "iopub.execute_input": "2021-11-22T06:52:17.080491Z",
     "iopub.status.busy": "2021-11-22T06:52:17.079856Z",
     "iopub.status.idle": "2021-11-22T06:52:17.273135Z",
     "shell.execute_reply": "2021-11-22T06:52:17.272718Z",
     "shell.execute_reply.started": "2021-11-22T04:31:42.391112Z"
    },
    "id": "hT3TVhgF8Af3",
    "outputId": "ae54b4f0-3d2b-4b6d-b965-7bd7ab67901c",
    "papermill": {
     "duration": 0.234882,
     "end_time": "2021-11-22T06:52:17.273256",
     "exception": false,
     "start_time": "2021-11-22T06:52:17.038374",
     "status": "completed"
    },
    "tags": []
   },
   "outputs": [
    {
     "data": {
      "text/plain": [
       "<matplotlib.image.AxesImage at 0x7f0abc934b10>"
      ]
     },
     "execution_count": 7,
     "metadata": {},
     "output_type": "execute_result"
    },
    {
     "data": {
      "image/png": "[encoded data removed]",
      "text/plain": [
       "<Figure size 432x288 with 1 Axes>"
      ]
     },
     "metadata": {
      "needs_background": "light"
     },
     "output_type": "display_data"
    }
   ],
   "source": [
    "plt.imshow(xtrain[1,:,:],cmap='gray')"
   ]
  },
  {
   "cell_type": "markdown",
   "id": "bb53449b",
   "metadata": {
    "papermill": {
     "duration": 0.024741,
     "end_time": "2021-11-22T06:52:17.323273",
     "exception": false,
     "start_time": "2021-11-22T06:52:17.298532",
     "status": "completed"
    },
    "tags": []
   },
   "source": [
    "Label:"
   ]
  },
  {
   "cell_type": "code",
   "execution_count": 8,
   "id": "e51761b8",
   "metadata": {
    "execution": {
     "iopub.execute_input": "2021-11-22T06:52:17.378461Z",
     "iopub.status.busy": "2021-11-22T06:52:17.377526Z",
     "iopub.status.idle": "2021-11-22T06:52:17.380529Z",
     "shell.execute_reply": "2021-11-22T06:52:17.380938Z",
     "shell.execute_reply.started": "2021-11-22T04:31:42.615560Z"
    },
    "id": "OGFV6ECu8Af5",
    "outputId": "444c723b-941c-4022-f844-bf0dba5c5df8",
    "papermill": {
     "duration": 0.032946,
     "end_time": "2021-11-22T06:52:17.381061",
     "exception": false,
     "start_time": "2021-11-22T06:52:17.348115",
     "status": "completed"
    },
    "tags": []
   },
   "outputs": [
    {
     "data": {
      "text/plain": [
       "0"
      ]
     },
     "execution_count": 8,
     "metadata": {},
     "output_type": "execute_result"
    }
   ],
   "source": [
    "ytrain[1]"
   ]
  },
  {
   "cell_type": "markdown",
   "id": "91dcaba4",
   "metadata": {
    "papermill": {
     "duration": 0.025008,
     "end_time": "2021-11-22T06:52:17.431141",
     "exception": false,
     "start_time": "2021-11-22T06:52:17.406133",
     "status": "completed"
    },
    "tags": []
   },
   "source": [
    "Image:"
   ]
  },
  {
   "cell_type": "code",
   "execution_count": 9,
   "id": "8b2f6048",
   "metadata": {
    "execution": {
     "iopub.execute_input": "2021-11-22T06:52:17.491103Z",
     "iopub.status.busy": "2021-11-22T06:52:17.490319Z",
     "iopub.status.idle": "2021-11-22T06:52:17.672868Z",
     "shell.execute_reply": "2021-11-22T06:52:17.672433Z",
     "shell.execute_reply.started": "2021-11-22T04:31:42.622602Z"
    },
    "id": "J3RndLvO8Af8",
    "outputId": "f17546ed-c00f-475f-b170-31468e63981f",
    "papermill": {
     "duration": 0.216811,
     "end_time": "2021-11-22T06:52:17.672988",
     "exception": false,
     "start_time": "2021-11-22T06:52:17.456177",
     "status": "completed"
    },
    "tags": []
   },
   "outputs": [
    {
     "data": {
      "text/plain": [
       "<matplotlib.image.AxesImage at 0x7f0ab4833ed0>"
      ]
     },
     "execution_count": 9,
     "metadata": {},
     "output_type": "execute_result"
    },
    {
     "data": {
      "image/png": "[encoded data removed]",
      "text/plain": [
       "<Figure size 432x288 with 1 Axes>"
      ]
     },
     "metadata": {
      "needs_background": "light"
     },
     "output_type": "display_data"
    }
   ],
   "source": [
    "plt.imshow(xtest[0,:,:],cmap='gray')"
   ]
  },
  {
   "cell_type": "markdown",
   "id": "6ac9b63a",
   "metadata": {
    "papermill": {
     "duration": 0.026019,
     "end_time": "2021-11-22T06:52:17.725182",
     "exception": false,
     "start_time": "2021-11-22T06:52:17.699163",
     "status": "completed"
    },
    "tags": []
   },
   "source": [
    "label:"
   ]
  },
  {
   "cell_type": "code",
   "execution_count": 10,
   "id": "61b3e1aa",
   "metadata": {
    "execution": {
     "iopub.execute_input": "2021-11-22T06:52:17.782774Z",
     "iopub.status.busy": "2021-11-22T06:52:17.781885Z",
     "iopub.status.idle": "2021-11-22T06:52:17.785595Z",
     "shell.execute_reply": "2021-11-22T06:52:17.785054Z",
     "shell.execute_reply.started": "2021-11-22T04:31:42.821818Z"
    },
    "id": "rWKzG0Uz8Af-",
    "outputId": "8f215039-f335-453c-9204-90700ce46dd1",
    "papermill": {
     "duration": 0.03452,
     "end_time": "2021-11-22T06:52:17.785705",
     "exception": false,
     "start_time": "2021-11-22T06:52:17.751185",
     "status": "completed"
    },
    "tags": []
   },
   "outputs": [
    {
     "data": {
      "text/plain": [
       "7"
      ]
     },
     "execution_count": 10,
     "metadata": {},
     "output_type": "execute_result"
    }
   ],
   "source": [
    "ytest[0]"
   ]
  },
  {
   "cell_type": "code",
   "execution_count": 11,
   "id": "3e2221fb",
   "metadata": {
    "execution": {
     "iopub.execute_input": "2021-11-22T06:52:17.845920Z",
     "iopub.status.busy": "2021-11-22T06:52:17.845204Z",
     "iopub.status.idle": "2021-11-22T06:52:17.851715Z",
     "shell.execute_reply": "2021-11-22T06:52:17.852192Z",
     "shell.execute_reply.started": "2021-11-22T04:31:42.828637Z"
    },
    "id": "eUlVvVev8AgA",
    "outputId": "4c1dcd9f-522e-43b5-b2be-a0d7ae436908",
    "papermill": {
     "duration": 0.040358,
     "end_time": "2021-11-22T06:52:17.852319",
     "exception": false,
     "start_time": "2021-11-22T06:52:17.811961",
     "status": "completed"
    },
    "tags": []
   },
   "outputs": [
    {
     "data": {
      "text/plain": [
       "1    6742\n",
       "7    6265\n",
       "3    6131\n",
       "2    5958\n",
       "9    5949\n",
       "0    5923\n",
       "6    5918\n",
       "8    5851\n",
       "4    5842\n",
       "5    5421\n",
       "Name: 0, dtype: int64"
      ]
     },
     "execution_count": 11,
     "metadata": {},
     "output_type": "execute_result"
    }
   ],
   "source": [
    "L=pd.DataFrame(ytrain)\n",
    "L[0].value_counts()"
   ]
  },
  {
   "cell_type": "code",
   "execution_count": 12,
   "id": "d8e64483",
   "metadata": {
    "execution": {
     "iopub.execute_input": "2021-11-22T06:52:17.910581Z",
     "iopub.status.busy": "2021-11-22T06:52:17.909576Z",
     "iopub.status.idle": "2021-11-22T06:52:17.966424Z",
     "shell.execute_reply": "2021-11-22T06:52:17.965906Z",
     "shell.execute_reply.started": "2021-11-22T04:31:42.848099Z"
    },
    "id": "WQYuYZGd8AgD",
    "papermill": {
     "duration": 0.086976,
     "end_time": "2021-11-22T06:52:17.966579",
     "exception": false,
     "start_time": "2021-11-22T06:52:17.879603",
     "status": "completed"
    },
    "tags": []
   },
   "outputs": [],
   "source": [
    "#Represent Training & Testing samples suitable for #tensorflow backend\n",
    "\n",
    "x_train=xtrain.reshape(xtrain.shape[0],784).astype('float32')\n",
    "x_test=xtest.reshape(xtest.shape[0],784).astype('float32')"
   ]
  },
  {
   "cell_type": "code",
   "execution_count": 13,
   "id": "9f79082f",
   "metadata": {
    "execution": {
     "iopub.execute_input": "2021-11-22T06:52:18.027117Z",
     "iopub.status.busy": "2021-11-22T06:52:18.026455Z",
     "iopub.status.idle": "2021-11-22T06:52:18.029520Z",
     "shell.execute_reply": "2021-11-22T06:52:18.029923Z",
     "shell.execute_reply.started": "2021-11-22T04:31:42.909635Z"
    },
    "id": "v1QWQjmZ8AgF",
    "outputId": "534ed810-19bf-47d8-8065-b89bb940deda",
    "papermill": {
     "duration": 0.035241,
     "end_time": "2021-11-22T06:52:18.030051",
     "exception": false,
     "start_time": "2021-11-22T06:52:17.994810",
     "status": "completed"
    },
    "tags": []
   },
   "outputs": [
    {
     "data": {
      "text/plain": [
       "(10000, 784)"
      ]
     },
     "execution_count": 13,
     "metadata": {},
     "output_type": "execute_result"
    }
   ],
   "source": [
    "x_test.shape"
   ]
  },
  {
   "cell_type": "code",
   "execution_count": 14,
   "id": "fe66a0c4",
   "metadata": {
    "execution": {
     "iopub.execute_input": "2021-11-22T06:52:18.088900Z",
     "iopub.status.busy": "2021-11-22T06:52:18.088121Z",
     "iopub.status.idle": "2021-11-22T06:52:18.111343Z",
     "shell.execute_reply": "2021-11-22T06:52:18.110945Z",
     "shell.execute_reply.started": "2021-11-22T04:31:42.916882Z"
    },
    "id": "5qajCj7-8AgH",
    "papermill": {
     "duration": 0.053422,
     "end_time": "2021-11-22T06:52:18.111479",
     "exception": false,
     "start_time": "2021-11-22T06:52:18.058057",
     "status": "completed"
    },
    "tags": []
   },
   "outputs": [],
   "source": [
    "x_train/=255\n",
    "x_test/=255"
   ]
  },
  {
   "cell_type": "code",
   "execution_count": 15,
   "id": "8ffc7cda",
   "metadata": {
    "execution": {
     "iopub.execute_input": "2021-11-22T06:52:18.168918Z",
     "iopub.status.busy": "2021-11-22T06:52:18.168198Z",
     "iopub.status.idle": "2021-11-22T06:52:18.173231Z",
     "shell.execute_reply": "2021-11-22T06:52:18.172819Z",
     "shell.execute_reply.started": "2021-11-22T04:31:42.946322Z"
    },
    "id": "mZnZ2Dq78AgL",
    "outputId": "956e6db7-6a1e-4b15-df36-3c1edd00caaf",
    "papermill": {
     "duration": 0.035183,
     "end_time": "2021-11-22T06:52:18.173332",
     "exception": false,
     "start_time": "2021-11-22T06:52:18.138149",
     "status": "completed"
    },
    "tags": []
   },
   "outputs": [],
   "source": [
    "y_train = keras.utils.to_categorical(ytrain, 10)\n",
    "y_test = keras.utils.to_categorical(ytest, 10)"
   ]
  },
  {
   "cell_type": "markdown",
   "id": "f8c53bdd",
   "metadata": {
    "papermill": {
     "duration": 0.026698,
     "end_time": "2021-11-22T06:52:18.226773",
     "exception": false,
     "start_time": "2021-11-22T06:52:18.200075",
     "status": "completed"
    },
    "tags": []
   },
   "source": [
    "### Biulding Model"
   ]
  },
  {
   "cell_type": "code",
   "execution_count": 16,
   "id": "50b36caa",
   "metadata": {
    "execution": {
     "iopub.execute_input": "2021-11-22T06:52:18.284348Z",
     "iopub.status.busy": "2021-11-22T06:52:18.283846Z",
     "iopub.status.idle": "2021-11-22T06:52:20.240228Z",
     "shell.execute_reply": "2021-11-22T06:52:20.239330Z",
     "shell.execute_reply.started": "2021-11-22T04:31:42.955261Z"
    },
    "id": "TPpy3hpM8AgO",
    "papermill": {
     "duration": 1.986754,
     "end_time": "2021-11-22T06:52:20.240371",
     "exception": false,
     "start_time": "2021-11-22T06:52:18.253617",
     "status": "completed"
    },
    "tags": []
   },
   "outputs": [
    {
     "name": "stderr",
     "output_type": "stream",
     "text": [
      "2021-11-22 06:52:18.294635: I tensorflow/compiler/jit/xla_cpu_device.cc:41] Not creating XLA devices, tf_xla_enable_xla_devices not set\n",
      "2021-11-22 06:52:18.297856: I tensorflow/stream_executor/platform/default/dso_loader.cc:49] Successfully opened dynamic library libcuda.so.1\n",
      "2021-11-22 06:52:18.345577: I tensorflow/stream_executor/cuda/cuda_gpu_executor.cc:941] successful NUMA node read from SysFS had negative value (-1), but there must be at least one NUMA node, so returning NUMA node zero\n",
      "2021-11-22 06:52:18.346203: I tensorflow/core/common_runtime/gpu/gpu_device.cc:1720] Found device 0 with properties: \n",
      "pciBusID: 0000:00:04.0 name: Tesla P100-PCIE-16GB computeCapability: 6.0\n",
      "coreClock: 1.3285GHz coreCount: 56 deviceMemorySize: 15.90GiB deviceMemoryBandwidth: 681.88GiB/s\n",
      "2021-11-22 06:52:18.346267: I tensorflow/stream_executor/platform/default/dso_loader.cc:49] Successfully opened dynamic library libcudart.so.11.0\n",
      "2021-11-22 06:52:18.373636: I tensorflow/stream_executor/platform/default/dso_loader.cc:49] Successfully opened dynamic library libcublas.so.11\n",
      "2021-11-22 06:52:18.373733: I tensorflow/stream_executor/platform/default/dso_loader.cc:49] Successfully opened dynamic library libcublasLt.so.11\n",
      "2021-11-22 06:52:18.391158: I tensorflow/stream_executor/platform/default/dso_loader.cc:49] Successfully opened dynamic library libcufft.so.10\n",
      "2021-11-22 06:52:18.399534: I tensorflow/stream_executor/platform/default/dso_loader.cc:49] Successfully opened dynamic library libcurand.so.10\n",
      "2021-11-22 06:52:18.426673: I tensorflow/stream_executor/platform/default/dso_loader.cc:49] Successfully opened dynamic library libcusolver.so.10\n",
      "2021-11-22 06:52:18.434976: I tensorflow/stream_executor/platform/default/dso_loader.cc:49] Successfully opened dynamic library libcusparse.so.11\n",
      "2021-11-22 06:52:18.438858: I tensorflow/stream_executor/platform/default/dso_loader.cc:49] Successfully opened dynamic library libcudnn.so.8\n",
      "2021-11-22 06:52:18.439030: I tensorflow/stream_executor/cuda/cuda_gpu_executor.cc:941] successful NUMA node read from SysFS had negative value (-1), but there must be at least one NUMA node, so returning NUMA node zero\n",
      "2021-11-22 06:52:18.439712: I tensorflow/stream_executor/cuda/cuda_gpu_executor.cc:941] successful NUMA node read from SysFS had negative value (-1), but there must be at least one NUMA node, so returning NUMA node zero\n",
      "2021-11-22 06:52:18.441257: I tensorflow/core/common_runtime/gpu/gpu_device.cc:1862] Adding visible gpu devices: 0\n",
      "2021-11-22 06:52:18.442371: I tensorflow/core/platform/cpu_feature_guard.cc:142] This TensorFlow binary is optimized with oneAPI Deep Neural Network Library (oneDNN) to use the following CPU instructions in performance-critical operations:  AVX2 AVX512F FMA\n",
      "To enable them in other operations, rebuild TensorFlow with the appropriate compiler flags.\n",
      "2021-11-22 06:52:18.442598: I tensorflow/compiler/jit/xla_gpu_device.cc:99] Not creating XLA devices, tf_xla_enable_xla_devices not set\n",
      "2021-11-22 06:52:18.442770: I tensorflow/stream_executor/cuda/cuda_gpu_executor.cc:941] successful NUMA node read from SysFS had negative value (-1), but there must be at least one NUMA node, so returning NUMA node zero\n",
      "2021-11-22 06:52:18.443573: I tensorflow/core/common_runtime/gpu/gpu_device.cc:1720] Found device 0 with properties: \n",
      "pciBusID: 0000:00:04.0 name: Tesla P100-PCIE-16GB computeCapability: 6.0\n",
      "coreClock: 1.3285GHz coreCount: 56 deviceMemorySize: 15.90GiB deviceMemoryBandwidth: 681.88GiB/s\n",
      "2021-11-22 06:52:18.443623: I tensorflow/stream_executor/platform/default/dso_loader.cc:49] Successfully opened dynamic library libcudart.so.11.0\n",
      "2021-11-22 06:52:18.443646: I tensorflow/stream_executor/platform/default/dso_loader.cc:49] Successfully opened dynamic library libcublas.so.11\n",
      "2021-11-22 06:52:18.443665: I tensorflow/stream_executor/platform/default/dso_loader.cc:49] Successfully opened dynamic library libcublasLt.so.11\n",
      "2021-11-22 06:52:18.443692: I tensorflow/stream_executor/platform/default/dso_loader.cc:49] Successfully opened dynamic library libcufft.so.10\n",
      "2021-11-22 06:52:18.443716: I tensorflow/stream_executor/platform/default/dso_loader.cc:49] Successfully opened dynamic library libcurand.so.10\n",
      "2021-11-22 06:52:18.443735: I tensorflow/stream_executor/platform/default/dso_loader.cc:49] Successfully opened dynamic library libcusolver.so.10\n",
      "2021-11-22 06:52:18.443754: I tensorflow/stream_executor/platform/default/dso_loader.cc:49] Successfully opened dynamic library libcusparse.so.11\n",
      "2021-11-22 06:52:18.443772: I tensorflow/stream_executor/platform/default/dso_loader.cc:49] Successfully opened dynamic library libcudnn.so.8\n",
      "2021-11-22 06:52:18.443858: I tensorflow/stream_executor/cuda/cuda_gpu_executor.cc:941] successful NUMA node read from SysFS had negative value (-1), but there must be at least one NUMA node, so returning NUMA node zero\n",
      "2021-11-22 06:52:18.444511: I tensorflow/stream_executor/cuda/cuda_gpu_executor.cc:941] successful NUMA node read from SysFS had negative value (-1), but there must be at least one NUMA node, so returning NUMA node zero\n",
      "2021-11-22 06:52:18.445042: I tensorflow/core/common_runtime/gpu/gpu_device.cc:1862] Adding visible gpu devices: 0\n",
      "2021-11-22 06:52:18.446215: I tensorflow/stream_executor/platform/default/dso_loader.cc:49] Successfully opened dynamic library libcudart.so.11.0\n",
      "2021-11-22 06:52:19.933084: I tensorflow/core/common_runtime/gpu/gpu_device.cc:1261] Device interconnect StreamExecutor with strength 1 edge matrix:\n",
      "2021-11-22 06:52:19.933132: I tensorflow/core/common_runtime/gpu/gpu_device.cc:1267]      0 \n",
      "2021-11-22 06:52:19.933144: I tensorflow/core/common_runtime/gpu/gpu_device.cc:1280] 0:   N \n",
      "2021-11-22 06:52:19.935665: I tensorflow/stream_executor/cuda/cuda_gpu_executor.cc:941] successful NUMA node read from SysFS had negative value (-1), but there must be at least one NUMA node, so returning NUMA node zero\n",
      "2021-11-22 06:52:19.936370: I tensorflow/stream_executor/cuda/cuda_gpu_executor.cc:941] successful NUMA node read from SysFS had negative value (-1), but there must be at least one NUMA node, so returning NUMA node zero\n",
      "2021-11-22 06:52:19.937054: I tensorflow/stream_executor/cuda/cuda_gpu_executor.cc:941] successful NUMA node read from SysFS had negative value (-1), but there must be at least one NUMA node, so returning NUMA node zero\n",
      "2021-11-22 06:52:19.937629: I tensorflow/core/common_runtime/gpu/gpu_device.cc:1406] Created TensorFlow device (/job:localhost/replica:0/task:0/device:GPU:0 with 14957 MB memory) -> physical GPU (device: 0, name: Tesla P100-PCIE-16GB, pci bus id: 0000:00:04.0, compute capability: 6.0)\n"
     ]
    }
   ],
   "source": [
    "model = Sequential()"
   ]
  },
  {
   "cell_type": "code",
   "execution_count": 17,
   "id": "3a442fc4",
   "metadata": {
    "execution": {
     "iopub.execute_input": "2021-11-22T06:52:20.306526Z",
     "iopub.status.busy": "2021-11-22T06:52:20.305790Z",
     "iopub.status.idle": "2021-11-22T06:52:20.308005Z",
     "shell.execute_reply": "2021-11-22T06:52:20.308433Z",
     "shell.execute_reply.started": "2021-11-22T04:31:45.387103Z"
    },
    "id": "19kdw8qz8AgV",
    "papermill": {
     "duration": 0.039931,
     "end_time": "2021-11-22T06:52:20.308565",
     "exception": false,
     "start_time": "2021-11-22T06:52:20.268634",
     "status": "completed"
    },
    "tags": []
   },
   "outputs": [],
   "source": [
    "# Define model architecture\n",
    "\n",
    "model.add(Dense(784,activation='relu'))\n",
    "model.add(Dense(100, activation ='relu'))\n",
    "model.add(Dense(10,activation='softmax'))"
   ]
  },
  {
   "cell_type": "code",
   "execution_count": 18,
   "id": "2c0d1703",
   "metadata": {
    "execution": {
     "iopub.execute_input": "2021-11-22T06:52:20.373122Z",
     "iopub.status.busy": "2021-11-22T06:52:20.372501Z",
     "iopub.status.idle": "2021-11-22T06:52:20.379726Z",
     "shell.execute_reply": "2021-11-22T06:52:20.380117Z",
     "shell.execute_reply.started": "2021-11-22T04:31:45.407857Z"
    },
    "id": "MKKOQijJ8AgY",
    "papermill": {
     "duration": 0.044439,
     "end_time": "2021-11-22T06:52:20.380266",
     "exception": false,
     "start_time": "2021-11-22T06:52:20.335827",
     "status": "completed"
    },
    "tags": []
   },
   "outputs": [],
   "source": [
    "model.compile(loss='categorical_crossentropy',optimizer='adam',metrics=['accuracy'])"
   ]
  },
  {
   "cell_type": "code",
   "execution_count": 19,
   "id": "ced9d643",
   "metadata": {
    "execution": {
     "iopub.execute_input": "2021-11-22T06:52:20.438996Z",
     "iopub.status.busy": "2021-11-22T06:52:20.438396Z",
     "iopub.status.idle": "2021-11-22T06:53:21.938283Z",
     "shell.execute_reply": "2021-11-22T06:53:21.938720Z",
     "shell.execute_reply.started": "2021-11-22T04:31:45.434658Z"
    },
    "id": "7jWMYY138Aga",
    "outputId": "ad385468-4884-4de4-a1f3-c63dbbdfaabd",
    "papermill": {
     "duration": 61.531184,
     "end_time": "2021-11-22T06:53:21.938882",
     "exception": false,
     "start_time": "2021-11-22T06:52:20.407698",
     "status": "completed"
    },
    "tags": []
   },
   "outputs": [
    {
     "name": "stderr",
     "output_type": "stream",
     "text": [
      "2021-11-22 06:52:20.788799: I tensorflow/compiler/mlir/mlir_graph_optimization_pass.cc:116] None of the MLIR optimization passes are enabled (registered 2)\n",
      "2021-11-22 06:52:20.800268: I tensorflow/core/platform/profile_utils/cpu_utils.cc:112] CPU Frequency: 2000170000 Hz\n"
     ]
    },
    {
     "name": "stdout",
     "output_type": "stream",
     "text": [
      "Epoch 1/100\n"
     ]
    },
    {
     "name": "stderr",
     "output_type": "stream",
     "text": [
      "2021-11-22 06:52:21.231984: I tensorflow/stream_executor/platform/default/dso_loader.cc:49] Successfully opened dynamic library libcublas.so.11\n"
     ]
    },
    {
     "name": "stdout",
     "output_type": "stream",
     "text": [
      " 41/235 [====>.........................] - ETA: 0s - loss: 1.1083 - accuracy: 0.6926"
     ]
    },
    {
     "name": "stderr",
     "output_type": "stream",
     "text": [
      "2021-11-22 06:52:22.010467: I tensorflow/stream_executor/platform/default/dso_loader.cc:49] Successfully opened dynamic library libcublasLt.so.11\n"
     ]
    },
    {
     "name": "stdout",
     "output_type": "stream",
     "text": [
      "235/235 [==============================] - 2s 2ms/step - loss: 0.5074 - accuracy: 0.8585\n",
      "Epoch 2/100\n",
      "235/235 [==============================] - 1s 2ms/step - loss: 0.1023 - accuracy: 0.9690\n",
      "Epoch 3/100\n",
      "235/235 [==============================] - 1s 2ms/step - loss: 0.0622 - accuracy: 0.9805\n",
      "Epoch 4/100\n",
      "235/235 [==============================] - 1s 2ms/step - loss: 0.0375 - accuracy: 0.9893\n",
      "Epoch 5/100\n",
      "235/235 [==============================] - 1s 2ms/step - loss: 0.0263 - accuracy: 0.9923\n",
      "Epoch 6/100\n",
      "235/235 [==============================] - 1s 3ms/step - loss: 0.0193 - accuracy: 0.9947\n",
      "Epoch 7/100\n",
      "235/235 [==============================] - 1s 2ms/step - loss: 0.0141 - accuracy: 0.9964\n",
      "Epoch 8/100\n",
      "235/235 [==============================] - 1s 2ms/step - loss: 0.0130 - accuracy: 0.9963\n",
      "Epoch 9/100\n",
      "235/235 [==============================] - 1s 2ms/step - loss: 0.0100 - accuracy: 0.9967\n",
      "Epoch 10/100\n",
      "235/235 [==============================] - 1s 2ms/step - loss: 0.0110 - accuracy: 0.9963\n",
      "Epoch 11/100\n",
      "235/235 [==============================] - 1s 2ms/step - loss: 0.0100 - accuracy: 0.9969\n",
      "Epoch 12/100\n",
      "235/235 [==============================] - 1s 2ms/step - loss: 0.0052 - accuracy: 0.9984\n",
      "Epoch 13/100\n",
      "235/235 [==============================] - 1s 3ms/step - loss: 0.0085 - accuracy: 0.9973\n",
      "Epoch 14/100\n",
      "235/235 [==============================] - 1s 2ms/step - loss: 0.0075 - accuracy: 0.9974\n",
      "Epoch 15/100\n",
      "235/235 [==============================] - 1s 2ms/step - loss: 0.0055 - accuracy: 0.9981\n",
      "Epoch 16/100\n",
      "235/235 [==============================] - 1s 2ms/step - loss: 0.0071 - accuracy: 0.9976\n",
      "Epoch 17/100\n",
      "235/235 [==============================] - 1s 3ms/step - loss: 0.0022 - accuracy: 0.9995\n",
      "Epoch 18/100\n",
      "235/235 [==============================] - 1s 3ms/step - loss: 0.0022 - accuracy: 0.9994\n",
      "Epoch 19/100\n",
      "235/235 [==============================] - 1s 2ms/step - loss: 0.0104 - accuracy: 0.9964\n",
      "Epoch 20/100\n",
      "235/235 [==============================] - 1s 2ms/step - loss: 0.0103 - accuracy: 0.9967\n",
      "Epoch 21/100\n",
      "235/235 [==============================] - 1s 2ms/step - loss: 0.0054 - accuracy: 0.9981\n",
      "Epoch 22/100\n",
      "235/235 [==============================] - 1s 2ms/step - loss: 0.0037 - accuracy: 0.9989\n",
      "Epoch 23/100\n",
      "235/235 [==============================] - 1s 2ms/step - loss: 0.0022 - accuracy: 0.9993\n",
      "Epoch 24/100\n",
      "235/235 [==============================] - 1s 2ms/step - loss: 0.0027 - accuracy: 0.9992\n",
      "Epoch 25/100\n",
      "235/235 [==============================] - 1s 3ms/step - loss: 0.0034 - accuracy: 0.9990\n",
      "Epoch 26/100\n",
      "235/235 [==============================] - 1s 2ms/step - loss: 6.4963e-04 - accuracy: 0.9999\n",
      "Epoch 27/100\n",
      "235/235 [==============================] - 1s 2ms/step - loss: 7.3564e-05 - accuracy: 1.0000\n",
      "Epoch 28/100\n",
      "235/235 [==============================] - 1s 2ms/step - loss: 5.4705e-05 - accuracy: 1.0000\n",
      "Epoch 29/100\n",
      "235/235 [==============================] - 1s 2ms/step - loss: 3.6206e-05 - accuracy: 1.0000\n",
      "Epoch 30/100\n",
      "235/235 [==============================] - 1s 2ms/step - loss: 2.9718e-05 - accuracy: 1.0000\n",
      "Epoch 31/100\n",
      "235/235 [==============================] - 1s 2ms/step - loss: 2.4412e-05 - accuracy: 1.0000\n",
      "Epoch 32/100\n",
      "235/235 [==============================] - 1s 2ms/step - loss: 2.2017e-05 - accuracy: 1.0000\n",
      "Epoch 33/100\n",
      "235/235 [==============================] - 1s 2ms/step - loss: 1.9226e-05 - accuracy: 1.0000\n",
      "Epoch 34/100\n",
      "235/235 [==============================] - 1s 2ms/step - loss: 1.7043e-05 - accuracy: 1.0000\n",
      "Epoch 35/100\n",
      "235/235 [==============================] - 1s 2ms/step - loss: 1.5173e-05 - accuracy: 1.0000\n",
      "Epoch 36/100\n",
      "235/235 [==============================] - 1s 3ms/step - loss: 1.2970e-05 - accuracy: 1.0000\n",
      "Epoch 37/100\n",
      "235/235 [==============================] - 1s 2ms/step - loss: 1.1809e-05 - accuracy: 1.0000\n",
      "Epoch 38/100\n",
      "235/235 [==============================] - 1s 2ms/step - loss: 1.0645e-05 - accuracy: 1.0000\n",
      "Epoch 39/100\n",
      "235/235 [==============================] - 1s 2ms/step - loss: 8.5426e-06 - accuracy: 1.0000\n",
      "Epoch 40/100\n",
      "235/235 [==============================] - 1s 2ms/step - loss: 8.1064e-06 - accuracy: 1.0000\n",
      "Epoch 41/100\n",
      "235/235 [==============================] - 1s 2ms/step - loss: 7.1592e-06 - accuracy: 1.0000\n",
      "Epoch 42/100\n",
      "235/235 [==============================] - 1s 2ms/step - loss: 6.5170e-06 - accuracy: 1.0000\n",
      "Epoch 43/100\n",
      "235/235 [==============================] - 1s 4ms/step - loss: 5.9218e-06 - accuracy: 1.0000\n",
      "Epoch 44/100\n",
      "235/235 [==============================] - 1s 4ms/step - loss: 5.6711e-06 - accuracy: 1.0000\n",
      "Epoch 45/100\n",
      "235/235 [==============================] - 1s 2ms/step - loss: 4.6786e-06 - accuracy: 1.0000\n",
      "Epoch 46/100\n",
      "235/235 [==============================] - 1s 2ms/step - loss: 4.1447e-06 - accuracy: 1.0000\n",
      "Epoch 47/100\n",
      "235/235 [==============================] - 1s 3ms/step - loss: 3.7673e-06 - accuracy: 1.0000\n",
      "Epoch 48/100\n",
      "235/235 [==============================] - 1s 3ms/step - loss: 3.4925e-06 - accuracy: 1.0000\n",
      "Epoch 49/100\n",
      "235/235 [==============================] - 1s 3ms/step - loss: 3.2231e-06 - accuracy: 1.0000\n",
      "Epoch 50/100\n",
      "235/235 [==============================] - 1s 2ms/step - loss: 2.7867e-06 - accuracy: 1.0000\n",
      "Epoch 51/100\n",
      "235/235 [==============================] - 1s 2ms/step - loss: 2.6050e-06 - accuracy: 1.0000\n",
      "Epoch 52/100\n",
      "235/235 [==============================] - 1s 2ms/step - loss: 2.1914e-06 - accuracy: 1.0000\n",
      "Epoch 53/100\n",
      "235/235 [==============================] - 1s 2ms/step - loss: 2.0608e-06 - accuracy: 1.0000\n",
      "Epoch 54/100\n",
      "235/235 [==============================] - 1s 2ms/step - loss: 1.8189e-06 - accuracy: 1.0000\n",
      "Epoch 55/100\n",
      "235/235 [==============================] - 1s 2ms/step - loss: 1.7369e-06 - accuracy: 1.0000\n",
      "Epoch 56/100\n",
      "235/235 [==============================] - 1s 2ms/step - loss: 1.4855e-06 - accuracy: 1.0000\n",
      "Epoch 57/100\n",
      "235/235 [==============================] - 1s 2ms/step - loss: 1.3231e-06 - accuracy: 1.0000\n",
      "Epoch 58/100\n",
      "235/235 [==============================] - 1s 2ms/step - loss: 1.2542e-06 - accuracy: 1.0000\n",
      "Epoch 59/100\n",
      "235/235 [==============================] - 1s 2ms/step - loss: 1.1364e-06 - accuracy: 1.0000\n",
      "Epoch 60/100\n",
      "235/235 [==============================] - 1s 3ms/step - loss: 9.9521e-07 - accuracy: 1.0000\n",
      "Epoch 61/100\n",
      "235/235 [==============================] - 1s 3ms/step - loss: 9.1184e-07 - accuracy: 1.0000\n",
      "Epoch 62/100\n",
      "235/235 [==============================] - 1s 3ms/step - loss: 7.4365e-07 - accuracy: 1.0000\n",
      "Epoch 63/100\n",
      "235/235 [==============================] - 1s 2ms/step - loss: 7.0013e-07 - accuracy: 1.0000\n",
      "Epoch 64/100\n",
      "235/235 [==============================] - 1s 2ms/step - loss: 6.1193e-07 - accuracy: 1.0000\n",
      "Epoch 65/100\n",
      "235/235 [==============================] - 1s 2ms/step - loss: 5.6429e-07 - accuracy: 1.0000\n",
      "Epoch 66/100\n",
      "235/235 [==============================] - 1s 2ms/step - loss: 4.9365e-07 - accuracy: 1.0000\n",
      "Epoch 67/100\n",
      "235/235 [==============================] - 1s 2ms/step - loss: 4.4701e-07 - accuracy: 1.0000\n",
      "Epoch 68/100\n",
      "235/235 [==============================] - 1s 3ms/step - loss: 3.7670e-07 - accuracy: 1.0000\n",
      "Epoch 69/100\n",
      "235/235 [==============================] - 1s 2ms/step - loss: 3.6783e-07 - accuracy: 1.0000\n",
      "Epoch 70/100\n",
      "235/235 [==============================] - 1s 2ms/step - loss: 3.2763e-07 - accuracy: 1.0000\n",
      "Epoch 71/100\n",
      "235/235 [==============================] - 1s 2ms/step - loss: 2.9159e-07 - accuracy: 1.0000\n",
      "Epoch 72/100\n",
      "235/235 [==============================] - 1s 2ms/step - loss: 2.5839e-07 - accuracy: 1.0000\n",
      "Epoch 73/100\n",
      "235/235 [==============================] - 1s 2ms/step - loss: 2.3236e-07 - accuracy: 1.0000\n",
      "Epoch 74/100\n",
      "235/235 [==============================] - 1s 2ms/step - loss: 2.0887e-07 - accuracy: 1.0000\n",
      "Epoch 75/100\n",
      "235/235 [==============================] - 1s 2ms/step - loss: 1.9126e-07 - accuracy: 1.0000\n",
      "Epoch 76/100\n",
      "235/235 [==============================] - 1s 3ms/step - loss: 1.6476e-07 - accuracy: 1.0000\n",
      "Epoch 77/100\n",
      "235/235 [==============================] - 1s 2ms/step - loss: 1.5217e-07 - accuracy: 1.0000\n",
      "Epoch 78/100\n",
      "235/235 [==============================] - 1s 2ms/step - loss: 1.3606e-07 - accuracy: 1.0000\n",
      "Epoch 79/100\n",
      "235/235 [==============================] - 1s 2ms/step - loss: 1.2629e-07 - accuracy: 1.0000\n",
      "Epoch 80/100\n",
      "235/235 [==============================] - 1s 3ms/step - loss: 1.1174e-07 - accuracy: 1.0000\n",
      "Epoch 81/100\n",
      "235/235 [==============================] - 1s 3ms/step - loss: 9.7329e-08 - accuracy: 1.0000\n",
      "Epoch 82/100\n",
      "235/235 [==============================] - 1s 2ms/step - loss: 9.0875e-08 - accuracy: 1.0000\n",
      "Epoch 83/100\n",
      "235/235 [==============================] - 1s 2ms/step - loss: 7.9180e-08 - accuracy: 1.0000\n",
      "Epoch 84/100\n",
      "235/235 [==============================] - 1s 2ms/step - loss: 7.4342e-08 - accuracy: 1.0000\n",
      "Epoch 85/100\n",
      "235/235 [==============================] - 1s 3ms/step - loss: 6.6055e-08 - accuracy: 1.0000\n",
      "Epoch 86/100\n",
      "235/235 [==============================] - 1s 2ms/step - loss: 5.7596e-08 - accuracy: 1.0000\n",
      "Epoch 87/100\n",
      "235/235 [==============================] - 1s 2ms/step - loss: 5.3329e-08 - accuracy: 1.0000\n",
      "Epoch 88/100\n",
      "235/235 [==============================] - 1s 2ms/step - loss: 4.6721e-08 - accuracy: 1.0000\n",
      "Epoch 89/100\n",
      "235/235 [==============================] - 1s 2ms/step - loss: 4.3590e-08 - accuracy: 1.0000\n",
      "Epoch 90/100\n",
      "235/235 [==============================] - 1s 2ms/step - loss: 3.7906e-08 - accuracy: 1.0000\n",
      "Epoch 91/100\n",
      "235/235 [==============================] - 1s 2ms/step - loss: 3.6027e-08 - accuracy: 1.0000\n",
      "Epoch 92/100\n",
      "235/235 [==============================] - 1s 2ms/step - loss: 3.2259e-08 - accuracy: 1.0000\n",
      "Epoch 93/100\n",
      "235/235 [==============================] - 1s 2ms/step - loss: 2.9955e-08 - accuracy: 1.0000\n",
      "Epoch 94/100\n",
      "235/235 [==============================] - 1s 2ms/step - loss: 2.5794e-08 - accuracy: 1.0000\n",
      "Epoch 95/100\n",
      "235/235 [==============================] - 1s 2ms/step - loss: 2.3899e-08 - accuracy: 1.0000\n",
      "Epoch 96/100\n",
      "235/235 [==============================] - 1s 3ms/step - loss: 2.1929e-08 - accuracy: 1.0000\n",
      "Epoch 97/100\n",
      "235/235 [==============================] - 1s 4ms/step - loss: 2.0403e-08 - accuracy: 1.0000\n",
      "Epoch 98/100\n",
      "235/235 [==============================] - 1s 3ms/step - loss: 1.8833e-08 - accuracy: 1.0000\n",
      "Epoch 99/100\n",
      "235/235 [==============================] - 1s 3ms/step - loss: 1.7416e-08 - accuracy: 1.0000\n",
      "Epoch 100/100\n",
      "235/235 [==============================] - 1s 3ms/step - loss: 1.5343e-08 - accuracy: 1.0000\n"
     ]
    }
   ],
   "source": [
    "history=model.fit(x_train, y_train, epochs=100, batch_size=256, verbose=1)"
   ]
  },
  {
   "cell_type": "code",
   "execution_count": 20,
   "id": "f8573e86",
   "metadata": {
    "execution": {
     "iopub.execute_input": "2021-11-22T06:53:22.719662Z",
     "iopub.status.busy": "2021-11-22T06:53:22.718652Z",
     "iopub.status.idle": "2021-11-22T06:53:23.335474Z",
     "shell.execute_reply": "2021-11-22T06:53:23.336196Z",
     "shell.execute_reply.started": "2021-11-22T04:32:47.035073Z"
    },
    "id": "eooLx3Mp8Agd",
    "outputId": "051d5b96-e533-46b5-da73-496fda4bc2e9",
    "papermill": {
     "duration": 1.01837,
     "end_time": "2021-11-22T06:53:23.336365",
     "exception": false,
     "start_time": "2021-11-22T06:53:22.317995",
     "status": "completed"
    },
    "tags": []
   },
   "outputs": [
    {
     "name": "stdout",
     "output_type": "stream",
     "text": [
      "Accuracy: 0.984\n",
      "Loss: 0.126\n"
     ]
    }
   ],
   "source": [
    "loss, acc = model.evaluate(x_test, y_test, verbose=0)\n",
    "print('Accuracy: %.3f'  % acc)\n",
    "print('Loss: %.3f' % loss)"
   ]
  },
  {
   "cell_type": "code",
   "execution_count": 21,
   "id": "3aca984d",
   "metadata": {
    "execution": {
     "iopub.execute_input": "2021-11-22T06:53:24.148218Z",
     "iopub.status.busy": "2021-11-22T06:53:24.134922Z",
     "iopub.status.idle": "2021-11-22T06:53:24.337854Z",
     "shell.execute_reply": "2021-11-22T06:53:24.337221Z",
     "shell.execute_reply.started": "2021-11-22T04:32:47.616218Z"
    },
    "papermill": {
     "duration": 0.603307,
     "end_time": "2021-11-22T06:53:24.337988",
     "exception": false,
     "start_time": "2021-11-22T06:53:23.734681",
     "status": "completed"
    },
    "tags": []
   },
   "outputs": [
    {
     "data": {
      "text/plain": [
       "<matplotlib.legend.Legend at 0x7f0aa40f3e50>"
      ]
     },
     "execution_count": 21,
     "metadata": {},
     "output_type": "execute_result"
    },
    {
     "data": {
      "image/png": "[encoded data removed]",
      "text/plain": [
       "<Figure size 432x288 with 1 Axes>"
      ]
     },
     "metadata": {
      "needs_background": "light"
     },
     "output_type": "display_data"
    }
   ],
   "source": [
    "from numpy import where\n",
    "from matplotlib import pyplot\n",
    "# plot loss during training\n",
    "pyplot.subplot(211)\n",
    "pyplot.title('Loss')\n",
    "pyplot.plot(history.history['loss'], label='train')\n",
    "pyplot.legend()"
   ]
  },
  {
   "cell_type": "code",
   "execution_count": 22,
   "id": "e4fd1bc5",
   "metadata": {
    "execution": {
     "iopub.execute_input": "2021-11-22T06:53:25.097383Z",
     "iopub.status.busy": "2021-11-22T06:53:25.096199Z",
     "iopub.status.idle": "2021-11-22T06:53:25.265459Z",
     "shell.execute_reply": "2021-11-22T06:53:25.265017Z",
     "shell.execute_reply.started": "2021-11-22T04:32:47.818377Z"
    },
    "papermill": {
     "duration": 0.566284,
     "end_time": "2021-11-22T06:53:25.265584",
     "exception": false,
     "start_time": "2021-11-22T06:53:24.699300",
     "status": "completed"
    },
    "tags": []
   },
   "outputs": [
    {
     "data": {
      "text/plain": [
       "<matplotlib.legend.Legend at 0x7f0a987c3290>"
      ]
     },
     "execution_count": 22,
     "metadata": {},
     "output_type": "execute_result"
    },
    {
     "data": {
      "image/png": "[encoded data removed]",
      "text/plain": [
       "<Figure size 432x288 with 1 Axes>"
      ]
     },
     "metadata": {
      "needs_background": "light"
     },
     "output_type": "display_data"
    }
   ],
   "source": [
    "%matplotlib inline\n",
    "from matplotlib import pyplot\n",
    "from numpy import where\n",
    "\n",
    "# plot loss during training\n",
    "pyplot.subplot(211)\n",
    "pyplot.title('Accuracy')\n",
    "pyplot.plot(history.history['accuracy'], label='train')\n",
    "pyplot.legend()"
   ]
  },
  {
   "cell_type": "code",
   "execution_count": 23,
   "id": "f2bf7fb5",
   "metadata": {
    "execution": {
     "iopub.execute_input": "2021-11-22T06:53:26.036829Z",
     "iopub.status.busy": "2021-11-22T06:53:26.035847Z",
     "iopub.status.idle": "2021-11-22T06:53:26.348327Z",
     "shell.execute_reply": "2021-11-22T06:53:26.347830Z",
     "shell.execute_reply.started": "2021-11-22T04:32:48.021633Z"
    },
    "id": "yMANVqX58Agj",
    "papermill": {
     "duration": 0.721954,
     "end_time": "2021-11-22T06:53:26.348500",
     "exception": false,
     "start_time": "2021-11-22T06:53:25.626546",
     "status": "completed"
    },
    "tags": []
   },
   "outputs": [],
   "source": [
    "y_predict = model.predict(x_test)"
   ]
  },
  {
   "cell_type": "code",
   "execution_count": 24,
   "id": "6d311e89",
   "metadata": {
    "execution": {
     "iopub.execute_input": "2021-11-22T06:53:27.082249Z",
     "iopub.status.busy": "2021-11-22T06:53:27.081305Z",
     "iopub.status.idle": "2021-11-22T06:53:27.084299Z",
     "shell.execute_reply": "2021-11-22T06:53:27.084725Z",
     "shell.execute_reply.started": "2021-11-22T04:32:48.535625Z"
    },
    "id": "yOgumyig8Agm",
    "outputId": "5431ee93-eee8-4d26-e7c9-3dc651ba8dff",
    "papermill": {
     "duration": 0.376637,
     "end_time": "2021-11-22T06:53:27.084863",
     "exception": false,
     "start_time": "2021-11-22T06:53:26.708226",
     "status": "completed"
    },
    "tags": []
   },
   "outputs": [
    {
     "data": {
      "text/plain": [
       "array([1.8884732e-23, 1.5335185e-26, 4.6117242e-24, 5.4063946e-18,\n",
       "       8.5488997e-28, 2.4073873e-26, 2.0261570e-33, 1.0000000e+00,\n",
       "       2.1190576e-25, 9.1365894e-24], dtype=float32)"
      ]
     },
     "execution_count": 24,
     "metadata": {},
     "output_type": "execute_result"
    }
   ],
   "source": [
    "y_predict[0]"
   ]
  },
  {
   "cell_type": "code",
   "execution_count": 25,
   "id": "a9c19d7f",
   "metadata": {
    "execution": {
     "iopub.execute_input": "2021-11-22T06:53:27.830209Z",
     "iopub.status.busy": "2021-11-22T06:53:27.829616Z",
     "iopub.status.idle": "2021-11-22T06:53:27.832274Z",
     "shell.execute_reply": "2021-11-22T06:53:27.832692Z",
     "shell.execute_reply.started": "2021-11-22T04:32:48.552248Z"
    },
    "id": "lbbqEylx8Agp",
    "outputId": "1d5c529a-a81d-48af-e86f-f24b3866fc43",
    "papermill": {
     "duration": 0.369127,
     "end_time": "2021-11-22T06:53:27.832832",
     "exception": false,
     "start_time": "2021-11-22T06:53:27.463705",
     "status": "completed"
    },
    "tags": []
   },
   "outputs": [
    {
     "data": {
      "text/plain": [
       "7"
      ]
     },
     "execution_count": 25,
     "metadata": {},
     "output_type": "execute_result"
    }
   ],
   "source": [
    "np.argmax(y_predict[0])"
   ]
  },
  {
   "cell_type": "markdown",
   "id": "7e00c33a",
   "metadata": {
    "papermill": {
     "duration": 0.360114,
     "end_time": "2021-11-22T06:53:28.556664",
     "exception": false,
     "start_time": "2021-11-22T06:53:28.196550",
     "status": "completed"
    },
    "tags": []
   },
   "source": [
    "###  Creating Confusion Matrix"
   ]
  },
  {
   "cell_type": "code",
   "execution_count": 26,
   "id": "d9aca754",
   "metadata": {
    "execution": {
     "iopub.execute_input": "2021-11-22T06:53:29.290847Z",
     "iopub.status.busy": "2021-11-22T06:53:29.290065Z",
     "iopub.status.idle": "2021-11-22T06:53:29.361140Z",
     "shell.execute_reply": "2021-11-22T06:53:29.361915Z",
     "shell.execute_reply.started": "2021-11-22T04:32:48.565498Z"
    },
    "id": "Blqo-6lQ8Agr",
    "outputId": "d9f2bd38-7354-471f-9add-ae687e97acfb",
    "papermill": {
     "duration": 0.443327,
     "end_time": "2021-11-22T06:53:29.362061",
     "exception": false,
     "start_time": "2021-11-22T06:53:28.918734",
     "status": "completed"
    },
    "tags": []
   },
   "outputs": [
    {
     "name": "stdout",
     "output_type": "stream",
     "text": [
      "[[ 975    1    1    0    0    0    1    0    1    1]\n",
      " [   0 1127    2    1    0    1    2    1    1    0]\n",
      " [   2    1 1016    3    1    0    0    4    4    1]\n",
      " [   0    0    1  997    0    1    0    2    3    6]\n",
      " [   1    1    3    0  964    0    3    1    1    8]\n",
      " [   2    0    0    8    1  874    4    0    2    1]\n",
      " [   4    2    2    1    3    4  942    0    0    0]\n",
      " [   2    3    7    0    2    0    0 1007    3    4]\n",
      " [   3    0    2    4    3    2    2    2  952    4]\n",
      " [   2    2    0    2    6    2    1    1    2  991]]\n"
     ]
    }
   ],
   "source": [
    "y_pred = []\n",
    "for val in y_predict:\n",
    "    y_pred.append(np.argmax(val))\n",
    "#print(y_pred)    \n",
    "#convert 0 1 to 1 and 1 0 as 0\n",
    "cm = metrics.confusion_matrix(ytest,y_pred)\n",
    "print(cm)"
   ]
  },
  {
   "cell_type": "markdown",
   "id": "1e868733",
   "metadata": {
    "papermill": {
     "duration": 0.371191,
     "end_time": "2021-11-22T06:53:30.095366",
     "exception": false,
     "start_time": "2021-11-22T06:53:29.724175",
     "status": "completed"
    },
    "tags": []
   },
   "source": [
    "## Creating Classification Report"
   ]
  },
  {
   "cell_type": "code",
   "execution_count": 27,
   "id": "b7807122",
   "metadata": {
    "execution": {
     "iopub.execute_input": "2021-11-22T06:53:30.832450Z",
     "iopub.status.busy": "2021-11-22T06:53:30.831642Z",
     "iopub.status.idle": "2021-11-22T06:53:30.860735Z",
     "shell.execute_reply": "2021-11-22T06:53:30.861349Z",
     "shell.execute_reply.started": "2021-11-22T04:32:48.740296Z"
    },
    "id": "oLEPbJmv8Agt",
    "outputId": "6aee666e-a41f-4c7f-80f5-8d327a1d5179",
    "papermill": {
     "duration": 0.397753,
     "end_time": "2021-11-22T06:53:30.861546",
     "exception": false,
     "start_time": "2021-11-22T06:53:30.463793",
     "status": "completed"
    },
    "tags": []
   },
   "outputs": [
    {
     "name": "stdout",
     "output_type": "stream",
     "text": [
      "              precision    recall  f1-score   support\n",
      "\n",
      "           0       0.98      0.99      0.99       980\n",
      "           1       0.99      0.99      0.99      1135\n",
      "           2       0.98      0.98      0.98      1032\n",
      "           3       0.98      0.99      0.98      1010\n",
      "           4       0.98      0.98      0.98       982\n",
      "           5       0.99      0.98      0.98       892\n",
      "           6       0.99      0.98      0.98       958\n",
      "           7       0.99      0.98      0.98      1028\n",
      "           8       0.98      0.98      0.98       974\n",
      "           9       0.98      0.98      0.98      1009\n",
      "\n",
      "    accuracy                           0.98     10000\n",
      "   macro avg       0.98      0.98      0.98     10000\n",
      "weighted avg       0.98      0.98      0.98     10000\n",
      "\n"
     ]
    }
   ],
   "source": [
    "cr=metrics.classification_report(ytest,y_pred)\n",
    "print(cr)"
   ]
  }
 ],
 "metadata": {
  "kernelspec": {
   "display_name": "Python 3",
   "language": "python",
   "name": "python3"
  },
  "language_info": {
   "codemirror_mode": {
    "name": "ipython",
    "version": 3
   },
   "file_extension": ".py",
   "mimetype": "text/x-python",
   "name": "python",
   "nbconvert_exporter": "python",
   "pygments_lexer": "ipython3",
   "version": "3.7.10"
  },
  "papermill": {
   "default_parameters": {},
   "duration": 89.72267,
   "end_time": "2021-11-22T06:53:34.137268",
   "environment_variables": {},
   "exception": null,
   "input_path": "__notebook__.ipynb",
   "output_path": "__notebook__.ipynb",
   "parameters": {},
   "start_time": "2021-11-22T06:52:04.414598",
   "version": "2.3.3"
  }
 },
 "nbformat": 4,
 "nbformat_minor": 5
}
